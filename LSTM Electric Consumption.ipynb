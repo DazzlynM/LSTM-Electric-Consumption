{
 "cells": [
  {
   "cell_type": "markdown",
   "id": "2584d812",
   "metadata": {},
   "source": [
    "# Importing the dataset"
   ]
  },
  {
   "cell_type": "code",
   "execution_count": 1,
   "id": "013255e4",
   "metadata": {},
   "outputs": [],
   "source": [
    "import numpy as np\n",
    "import matplotlib.pyplot as plt\n",
    "import pandas as pd\n",
    "import math\n",
    "from keras.models import Sequential\n",
    "from keras.layers import Dense\n",
    "from keras.layers import LSTM\n",
    "from sklearn.preprocessing import MinMaxScaler\n",
    "from sklearn.metrics import mean_squared_error"
   ]
  },
  {
   "cell_type": "markdown",
   "id": "ebbdea3c",
   "metadata": {},
   "source": [
    "# Converting an array of values into a dataset matrix"
   ]
  },
  {
   "cell_type": "code",
   "execution_count": 2,
   "id": "7972855b",
   "metadata": {},
   "outputs": [],
   "source": [
    "def create_dataset(dataset, look_back=1):\n",
    "    dataX, dataY = [], []\n",
    "    for i in range(len(dataset)-look_back-1):\n",
    "        a = dataset[i:(i+look_back), 0]\n",
    "        dataX.append(a)\n",
    "        dataY.append(dataset[i + look_back, 0])\n",
    "    return np.array(dataX), np.array(dataY)"
   ]
  },
  {
   "cell_type": "markdown",
   "id": "4b9bdc88",
   "metadata": {},
   "source": [
    "# fix random seed for reproducibility"
   ]
  },
  {
   "cell_type": "code",
   "execution_count": 3,
   "id": "a17654d7",
   "metadata": {},
   "outputs": [],
   "source": [
    "np.random.seed(7)"
   ]
  },
  {
   "cell_type": "markdown",
   "id": "22598d46",
   "metadata": {},
   "source": [
    "# load the dataset/ Importing the dataset"
   ]
  },
  {
   "cell_type": "code",
   "execution_count": 6,
   "id": "8eeaab30",
   "metadata": {},
   "outputs": [],
   "source": [
    "dataframe = pd.read_csv(\"Electric_Production.csv\", usecols=[1])\n",
    "dataset = dataframe.values\n",
    "dataset = dataset.astype(\"float32\")"
   ]
  },
  {
   "cell_type": "markdown",
   "id": "9860685c",
   "metadata": {},
   "source": [
    "# Normalize the dataset/Feature scaling"
   ]
  },
  {
   "cell_type": "code",
   "execution_count": 8,
   "id": "59efc603",
   "metadata": {},
   "outputs": [],
   "source": [
    "scaler = MinMaxScaler(feature_range=(0, 1))\n",
    "dataset = scaler.fit_transform(dataset)"
   ]
  },
  {
   "cell_type": "markdown",
   "id": "6929b2fb",
   "metadata": {},
   "source": [
    "# Splitting the dataset into Training set and Test set"
   ]
  },
  {
   "cell_type": "code",
   "execution_count": 9,
   "id": "07baeed0",
   "metadata": {},
   "outputs": [],
   "source": [
    "train_size = int(len(dataset) * 0.67)\n",
    "test_size = len(dataset) - train_size\n",
    "train, test = dataset[0:train_size,:], dataset[train_size:len(dataset),:]"
   ]
  },
  {
   "cell_type": "markdown",
   "id": "3cf05b50",
   "metadata": {},
   "source": [
    "# Reshape X=t and Y= t+1/ The matrix"
   ]
  },
  {
   "cell_type": "code",
   "execution_count": 10,
   "id": "b7916d38",
   "metadata": {},
   "outputs": [],
   "source": [
    "look_back = 1\n",
    "trainX, trainY = create_dataset(train, look_back)\n",
    "testX, testY = create_dataset(test, look_back)"
   ]
  },
  {
   "cell_type": "markdown",
   "id": "e83348fb",
   "metadata": {},
   "source": [
    "# Reshape input to be [samples, time steps, features]"
   ]
  },
  {
   "cell_type": "code",
   "execution_count": 11,
   "id": "7359f9a5",
   "metadata": {},
   "outputs": [],
   "source": [
    "trainX = np.reshape(trainX, (trainX.shape[0], 1, trainX.shape[1]))\n",
    "testX = np.reshape(testX, (testX.shape[0], 1, trainX.shape[1]))"
   ]
  },
  {
   "cell_type": "markdown",
   "id": "cc47cc6d",
   "metadata": {},
   "source": [
    "# Create and fit the LSTM network"
   ]
  },
  {
   "cell_type": "code",
   "execution_count": 12,
   "id": "b8a2a3e9",
   "metadata": {},
   "outputs": [
    {
     "name": "stdout",
     "output_type": "stream",
     "text": [
      "Epoch 1/100\n",
      "263/263 - 3s - loss: 0.0541 - 3s/epoch - 10ms/step\n",
      "Epoch 2/100\n",
      "263/263 - 1s - loss: 0.0175 - 540ms/epoch - 2ms/step\n",
      "Epoch 3/100\n",
      "263/263 - 1s - loss: 0.0147 - 525ms/epoch - 2ms/step\n",
      "Epoch 4/100\n",
      "263/263 - 1s - loss: 0.0123 - 537ms/epoch - 2ms/step\n",
      "Epoch 5/100\n",
      "263/263 - 1s - loss: 0.0105 - 504ms/epoch - 2ms/step\n",
      "Epoch 6/100\n",
      "263/263 - 1s - loss: 0.0093 - 511ms/epoch - 2ms/step\n",
      "Epoch 7/100\n",
      "263/263 - 1s - loss: 0.0087 - 516ms/epoch - 2ms/step\n",
      "Epoch 8/100\n",
      "263/263 - 1s - loss: 0.0083 - 516ms/epoch - 2ms/step\n",
      "Epoch 9/100\n",
      "263/263 - 1s - loss: 0.0080 - 516ms/epoch - 2ms/step\n",
      "Epoch 10/100\n",
      "263/263 - 1s - loss: 0.0081 - 508ms/epoch - 2ms/step\n",
      "Epoch 11/100\n",
      "263/263 - 1s - loss: 0.0079 - 511ms/epoch - 2ms/step\n",
      "Epoch 12/100\n",
      "263/263 - 1s - loss: 0.0080 - 508ms/epoch - 2ms/step\n",
      "Epoch 13/100\n",
      "263/263 - 1s - loss: 0.0080 - 508ms/epoch - 2ms/step\n",
      "Epoch 14/100\n",
      "263/263 - 1s - loss: 0.0081 - 559ms/epoch - 2ms/step\n",
      "Epoch 15/100\n",
      "263/263 - 1s - loss: 0.0078 - 573ms/epoch - 2ms/step\n",
      "Epoch 16/100\n",
      "263/263 - 1s - loss: 0.0081 - 532ms/epoch - 2ms/step\n",
      "Epoch 17/100\n",
      "263/263 - 1s - loss: 0.0080 - 507ms/epoch - 2ms/step\n",
      "Epoch 18/100\n",
      "263/263 - 1s - loss: 0.0080 - 520ms/epoch - 2ms/step\n",
      "Epoch 19/100\n",
      "263/263 - 0s - loss: 0.0080 - 500ms/epoch - 2ms/step\n",
      "Epoch 20/100\n",
      "263/263 - 1s - loss: 0.0079 - 515ms/epoch - 2ms/step\n",
      "Epoch 21/100\n",
      "263/263 - 1s - loss: 0.0079 - 516ms/epoch - 2ms/step\n",
      "Epoch 22/100\n",
      "263/263 - 1s - loss: 0.0080 - 509ms/epoch - 2ms/step\n",
      "Epoch 23/100\n",
      "263/263 - 1s - loss: 0.0080 - 508ms/epoch - 2ms/step\n",
      "Epoch 24/100\n",
      "263/263 - 0s - loss: 0.0081 - 496ms/epoch - 2ms/step\n",
      "Epoch 25/100\n",
      "263/263 - 1s - loss: 0.0078 - 519ms/epoch - 2ms/step\n",
      "Epoch 26/100\n",
      "263/263 - 1s - loss: 0.0080 - 503ms/epoch - 2ms/step\n",
      "Epoch 27/100\n",
      "263/263 - 1s - loss: 0.0081 - 501ms/epoch - 2ms/step\n",
      "Epoch 28/100\n",
      "263/263 - 1s - loss: 0.0080 - 516ms/epoch - 2ms/step\n",
      "Epoch 29/100\n",
      "263/263 - 1s - loss: 0.0080 - 517ms/epoch - 2ms/step\n",
      "Epoch 30/100\n",
      "263/263 - 1s - loss: 0.0080 - 509ms/epoch - 2ms/step\n",
      "Epoch 31/100\n",
      "263/263 - 1s - loss: 0.0078 - 525ms/epoch - 2ms/step\n",
      "Epoch 32/100\n",
      "263/263 - 0s - loss: 0.0081 - 492ms/epoch - 2ms/step\n",
      "Epoch 33/100\n",
      "263/263 - 1s - loss: 0.0079 - 507ms/epoch - 2ms/step\n",
      "Epoch 34/100\n",
      "263/263 - 1s - loss: 0.0077 - 512ms/epoch - 2ms/step\n",
      "Epoch 35/100\n",
      "263/263 - 1s - loss: 0.0080 - 503ms/epoch - 2ms/step\n",
      "Epoch 36/100\n",
      "263/263 - 1s - loss: 0.0080 - 524ms/epoch - 2ms/step\n",
      "Epoch 37/100\n",
      "263/263 - 1s - loss: 0.0079 - 511ms/epoch - 2ms/step\n",
      "Epoch 38/100\n",
      "263/263 - 0s - loss: 0.0079 - 500ms/epoch - 2ms/step\n",
      "Epoch 39/100\n",
      "263/263 - 1s - loss: 0.0079 - 516ms/epoch - 2ms/step\n",
      "Epoch 40/100\n",
      "263/263 - 1s - loss: 0.0079 - 516ms/epoch - 2ms/step\n",
      "Epoch 41/100\n",
      "263/263 - 1s - loss: 0.0080 - 512ms/epoch - 2ms/step\n",
      "Epoch 42/100\n",
      "263/263 - 1s - loss: 0.0079 - 500ms/epoch - 2ms/step\n",
      "Epoch 43/100\n",
      "263/263 - 1s - loss: 0.0079 - 535ms/epoch - 2ms/step\n",
      "Epoch 44/100\n",
      "263/263 - 1s - loss: 0.0079 - 516ms/epoch - 2ms/step\n",
      "Epoch 45/100\n",
      "263/263 - 1s - loss: 0.0078 - 518ms/epoch - 2ms/step\n",
      "Epoch 46/100\n",
      "263/263 - 0s - loss: 0.0079 - 468ms/epoch - 2ms/step\n",
      "Epoch 47/100\n",
      "263/263 - 0s - loss: 0.0078 - 469ms/epoch - 2ms/step\n",
      "Epoch 48/100\n",
      "263/263 - 0s - loss: 0.0078 - 486ms/epoch - 2ms/step\n",
      "Epoch 49/100\n",
      "263/263 - 1s - loss: 0.0079 - 521ms/epoch - 2ms/step\n",
      "Epoch 50/100\n",
      "263/263 - 1s - loss: 0.0080 - 520ms/epoch - 2ms/step\n",
      "Epoch 51/100\n",
      "263/263 - 0s - loss: 0.0078 - 497ms/epoch - 2ms/step\n",
      "Epoch 52/100\n",
      "263/263 - 1s - loss: 0.0078 - 564ms/epoch - 2ms/step\n",
      "Epoch 53/100\n",
      "263/263 - 1s - loss: 0.0079 - 514ms/epoch - 2ms/step\n",
      "Epoch 54/100\n",
      "263/263 - 0s - loss: 0.0080 - 492ms/epoch - 2ms/step\n",
      "Epoch 55/100\n",
      "263/263 - 0s - loss: 0.0079 - 490ms/epoch - 2ms/step\n",
      "Epoch 56/100\n",
      "263/263 - 1s - loss: 0.0077 - 508ms/epoch - 2ms/step\n",
      "Epoch 57/100\n",
      "263/263 - 1s - loss: 0.0077 - 508ms/epoch - 2ms/step\n",
      "Epoch 58/100\n",
      "263/263 - 1s - loss: 0.0079 - 517ms/epoch - 2ms/step\n",
      "Epoch 59/100\n",
      "263/263 - 1s - loss: 0.0079 - 501ms/epoch - 2ms/step\n",
      "Epoch 60/100\n",
      "263/263 - 1s - loss: 0.0079 - 516ms/epoch - 2ms/step\n",
      "Epoch 61/100\n",
      "263/263 - 1s - loss: 0.0079 - 529ms/epoch - 2ms/step\n",
      "Epoch 62/100\n",
      "263/263 - 1s - loss: 0.0080 - 504ms/epoch - 2ms/step\n",
      "Epoch 63/100\n",
      "263/263 - 1s - loss: 0.0079 - 508ms/epoch - 2ms/step\n",
      "Epoch 64/100\n",
      "263/263 - 1s - loss: 0.0078 - 534ms/epoch - 2ms/step\n",
      "Epoch 65/100\n",
      "263/263 - 1s - loss: 0.0078 - 516ms/epoch - 2ms/step\n",
      "Epoch 66/100\n",
      "263/263 - 1s - loss: 0.0079 - 508ms/epoch - 2ms/step\n",
      "Epoch 67/100\n",
      "263/263 - 0s - loss: 0.0078 - 500ms/epoch - 2ms/step\n",
      "Epoch 68/100\n",
      "263/263 - 0s - loss: 0.0078 - 499ms/epoch - 2ms/step\n",
      "Epoch 69/100\n",
      "263/263 - 1s - loss: 0.0078 - 526ms/epoch - 2ms/step\n",
      "Epoch 70/100\n",
      "263/263 - 0s - loss: 0.0080 - 500ms/epoch - 2ms/step\n",
      "Epoch 71/100\n",
      "263/263 - 0s - loss: 0.0078 - 476ms/epoch - 2ms/step\n",
      "Epoch 72/100\n",
      "263/263 - 0s - loss: 0.0078 - 499ms/epoch - 2ms/step\n",
      "Epoch 73/100\n",
      "263/263 - 1s - loss: 0.0078 - 501ms/epoch - 2ms/step\n",
      "Epoch 74/100\n",
      "263/263 - 1s - loss: 0.0079 - 512ms/epoch - 2ms/step\n",
      "Epoch 75/100\n",
      "263/263 - 1s - loss: 0.0078 - 520ms/epoch - 2ms/step\n",
      "Epoch 76/100\n",
      "263/263 - 1s - loss: 0.0079 - 552ms/epoch - 2ms/step\n",
      "Epoch 77/100\n",
      "263/263 - 1s - loss: 0.0078 - 524ms/epoch - 2ms/step\n",
      "Epoch 78/100\n",
      "263/263 - 1s - loss: 0.0078 - 539ms/epoch - 2ms/step\n",
      "Epoch 79/100\n",
      "263/263 - 1s - loss: 0.0078 - 551ms/epoch - 2ms/step\n",
      "Epoch 80/100\n",
      "263/263 - 1s - loss: 0.0078 - 553ms/epoch - 2ms/step\n",
      "Epoch 81/100\n",
      "263/263 - 1s - loss: 0.0079 - 528ms/epoch - 2ms/step\n",
      "Epoch 82/100\n",
      "263/263 - 1s - loss: 0.0079 - 574ms/epoch - 2ms/step\n",
      "Epoch 83/100\n",
      "263/263 - 1s - loss: 0.0078 - 550ms/epoch - 2ms/step\n",
      "Epoch 84/100\n",
      "263/263 - 1s - loss: 0.0078 - 545ms/epoch - 2ms/step\n",
      "Epoch 85/100\n",
      "263/263 - 1s - loss: 0.0078 - 536ms/epoch - 2ms/step\n",
      "Epoch 86/100\n",
      "263/263 - 1s - loss: 0.0078 - 546ms/epoch - 2ms/step\n",
      "Epoch 87/100\n",
      "263/263 - 1s - loss: 0.0078 - 557ms/epoch - 2ms/step\n",
      "Epoch 88/100\n",
      "263/263 - 1s - loss: 0.0078 - 508ms/epoch - 2ms/step\n",
      "Epoch 89/100\n",
      "263/263 - 0s - loss: 0.0079 - 476ms/epoch - 2ms/step\n",
      "Epoch 90/100\n",
      "263/263 - 0s - loss: 0.0077 - 499ms/epoch - 2ms/step\n",
      "Epoch 91/100\n",
      "263/263 - 1s - loss: 0.0077 - 515ms/epoch - 2ms/step\n",
      "Epoch 92/100\n",
      "263/263 - 1s - loss: 0.0078 - 513ms/epoch - 2ms/step\n",
      "Epoch 93/100\n",
      "263/263 - 1s - loss: 0.0078 - 515ms/epoch - 2ms/step\n",
      "Epoch 94/100\n",
      "263/263 - 1s - loss: 0.0079 - 505ms/epoch - 2ms/step\n",
      "Epoch 95/100\n",
      "263/263 - 1s - loss: 0.0078 - 516ms/epoch - 2ms/step\n",
      "Epoch 96/100\n",
      "263/263 - 1s - loss: 0.0077 - 506ms/epoch - 2ms/step\n",
      "Epoch 97/100\n",
      "263/263 - 0s - loss: 0.0077 - 498ms/epoch - 2ms/step\n",
      "Epoch 98/100\n",
      "263/263 - 1s - loss: 0.0079 - 509ms/epoch - 2ms/step\n",
      "Epoch 99/100\n",
      "263/263 - 1s - loss: 0.0078 - 505ms/epoch - 2ms/step\n",
      "Epoch 100/100\n",
      "263/263 - 1s - loss: 0.0077 - 529ms/epoch - 2ms/step\n"
     ]
    },
    {
     "data": {
      "text/plain": [
       "<keras.callbacks.History at 0x21ec63c6430>"
      ]
     },
     "execution_count": 12,
     "metadata": {},
     "output_type": "execute_result"
    }
   ],
   "source": [
    "model = Sequential()\n",
    "model.add(LSTM(4, input_shape=(1, look_back)))\n",
    "model.add(Dense(1))\n",
    "model.compile(loss=\"mean_squared_error\", optimizer=\"adam\")\n",
    "model.fit(trainX, trainY, epochs=100, batch_size=1, verbose=2)"
   ]
  },
  {
   "cell_type": "markdown",
   "id": "4dd3edb4",
   "metadata": {},
   "source": [
    "# Make predictions"
   ]
  },
  {
   "cell_type": "code",
   "execution_count": 13,
   "id": "d654f1a4",
   "metadata": {},
   "outputs": [],
   "source": [
    "trainPredict = model.predict(trainX)\n",
    "testPredict = model.predict(testX)"
   ]
  },
  {
   "cell_type": "markdown",
   "id": "76b7ac20",
   "metadata": {},
   "source": [
    "# Invert predictions"
   ]
  },
  {
   "cell_type": "code",
   "execution_count": 14,
   "id": "9317b529",
   "metadata": {},
   "outputs": [],
   "source": [
    "trainPredict = scaler.inverse_transform(trainPredict)\n",
    "trainY = scaler.inverse_transform([trainY])\n",
    "testPredict = scaler.inverse_transform(testPredict)\n",
    "testY = scaler.inverse_transform([testY])"
   ]
  },
  {
   "cell_type": "markdown",
   "id": "1bea8fb2",
   "metadata": {},
   "source": [
    "# Calculate root mean squared error"
   ]
  },
  {
   "cell_type": "code",
   "execution_count": 15,
   "id": "1eea94f9",
   "metadata": {},
   "outputs": [
    {
     "name": "stdout",
     "output_type": "stream",
     "text": [
      "Train score: 6.47 RMSE\n",
      "Test score: 8.98 RMSE\n"
     ]
    }
   ],
   "source": [
    "trainScore = math.sqrt(mean_squared_error(trainY[0], trainPredict[:,0]))\n",
    "print(\"Train score: %.2f RMSE\" % (trainScore))\n",
    "testScore = math.sqrt(mean_squared_error(testY[0], testPredict[:,0]))\n",
    "print(\"Test score: %.2f RMSE\" % (testScore))"
   ]
  },
  {
   "cell_type": "markdown",
   "id": "89a7d79a",
   "metadata": {},
   "source": [
    "# shift train predictions for plotting"
   ]
  },
  {
   "cell_type": "code",
   "execution_count": 16,
   "id": "5d4a025e",
   "metadata": {},
   "outputs": [],
   "source": [
    "trainPredictPlot = np.empty_like(dataset)\n",
    "trainPredictPlot[:, :] = np.nan\n",
    "trainPredictPlot[look_back:len(trainPredict)+look_back, :] = trainPredict"
   ]
  },
  {
   "cell_type": "markdown",
   "id": "75823c24",
   "metadata": {},
   "source": [
    "# Shift test predictions for plotting"
   ]
  },
  {
   "cell_type": "code",
   "execution_count": 17,
   "id": "0a058f04",
   "metadata": {},
   "outputs": [],
   "source": [
    "testPredictPlot = np.empty_like(dataset)\n",
    "testPredictPlot[:, :] = np.nan\n",
    "testPredictPlot[len(trainPredict)+(look_back*2)+1:len(dataset)-1, :] = testPredict"
   ]
  },
  {
   "cell_type": "markdown",
   "id": "b5b7e2bd",
   "metadata": {},
   "source": [
    "# Plot baseline and predictions"
   ]
  },
  {
   "cell_type": "code",
   "execution_count": 18,
   "id": "4502e549",
   "metadata": {},
   "outputs": [
    {
     "data": {
      "image/png": "[encoded data removed]",
      "text/plain": [
       "<Figure size 432x288 with 1 Axes>"
      ]
     },
     "metadata": {
      "needs_background": "light"
     },
     "output_type": "display_data"
    }
   ],
   "source": [
    "plt.plot(scaler.inverse_transform(dataset))\n",
    "plt.plot(trainPredictPlot)\n",
    "plt.plot(testPredictPlot)\n",
    "plt.show()"
   ]
  }
 ],
 "metadata": {
  "kernelspec": {
   "display_name": "Python 3",
   "language": "python",
   "name": "python3"
  },
  "language_info": {
   "codemirror_mode": {
    "name": "ipython",
    "version": 3
   },
   "file_extension": ".py",
   "mimetype": "text/x-python",
   "name": "python",
   "nbconvert_exporter": "python",
   "pygments_lexer": "ipython3",
   "version": "3.8.8"
  },
  "varInspector": {
   "cols": {
    "lenName": 16,
    "lenType": 16,
    "lenVar": 40
   },
   "kernels_config": {
    "python": {
     "delete_cmd_postfix": "",
     "delete_cmd_prefix": "del ",
     "library": "var_list.py",
     "varRefreshCmd": "print(var_dic_list())"
    },
    "r": {
     "delete_cmd_postfix": ") ",
     "delete_cmd_prefix": "rm(",
     "library": "var_list.r",
     "varRefreshCmd": "cat(var_dic_list()) "
    }
   },
   "types_to_exclude": [
    "module",
    "function",
    "builtin_function_or_method",
    "instance",
    "_Feature"
   ],
   "window_display": false
  }
 },
 "nbformat": 4,
 "nbformat_minor": 5
}
